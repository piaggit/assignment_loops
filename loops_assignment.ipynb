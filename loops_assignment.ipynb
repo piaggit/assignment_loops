{
 "cells": [
  {
   "cell_type": "code",
   "execution_count": 1,
   "id": "0a85f934-921b-4b7b-809c-99754e8a6c08",
   "metadata": {},
   "outputs": [
    {
     "name": "stdout",
     "output_type": "stream",
     "text": [
      "1\n",
      "2\n",
      "3\n",
      "4\n",
      "5\n"
     ]
    }
   ],
   "source": [
    "#Print number from 1 to 5 using a while loop.\n",
    "i=1\n",
    "while(i<=5):\n",
    "    print(i)\n",
    "    i+=1"
   ]
  },
  {
   "cell_type": "code",
   "execution_count": 1,
   "id": "a6c04497-b646-4986-9cc0-d1919c879ee8",
   "metadata": {},
   "outputs": [
    {
     "name": "stdout",
     "output_type": "stream",
     "text": [
      "55\n"
     ]
    }
   ],
   "source": [
    "#Calclate the sum of number from 1 to 10 using a while loop.\n",
    "i=1\n",
    "sum=0\n",
    "while(i<=10):\n",
    "    sum=sum+i\n",
    "    i+=1\n",
    "print(sum)\n"
   ]
  },
  {
   "cell_type": "code",
   "execution_count": 30,
   "id": "f7e1da06-0a35-489f-92d3-51b2b24eecd3",
   "metadata": {},
   "outputs": [
    {
     "name": "stdin",
     "output_type": "stream",
     "text": [
      "Enter the number: 3\n"
     ]
    },
    {
     "data": {
      "text/plain": [
       "'The factorial of :6'"
      ]
     },
     "execution_count": 30,
     "metadata": {},
     "output_type": "execute_result"
    }
   ],
   "source": [
    "#Calculate the factorial of a number using a for loop.\n",
    "\n",
    "num= int(input(\"Enter the number:\"))\n",
    "fact=1\n",
    "for i in range(num):\n",
    "    fact*= num\n",
    "    num=num-1\n",
    "f\"The factorial of :{fact}\""
   ]
  },
  {
   "cell_type": "code",
   "execution_count": 38,
   "id": "dda39b16-1d83-4d78-913d-be2a4012d969",
   "metadata": {
    "tags": []
   },
   "outputs": [
    {
     "name": "stdin",
     "output_type": "stream",
     "text": [
      "Enter your String: It is an important day\n"
     ]
    },
    {
     "data": {
      "text/plain": [
       "'The number of vowel in It is an important day is 7'"
      ]
     },
     "execution_count": 38,
     "metadata": {},
     "output_type": "execute_result"
    }
   ],
   "source": [
    "#Count the number of vowel in a string using a for loop.\n",
    "\n",
    "S= input(\"Enter your String:\")\n",
    "s=S.lower()\n",
    "v=0\n",
    "for char in s:\n",
    "    if char== 'a' or char== 'e' or char=='i' or char=='o' or char=='u':\n",
    "        v+=1\n",
    "    else: \n",
    "        continue\n",
    "f\"The number of vowel in {S} is {v}\""
   ]
  },
  {
   "cell_type": "code",
   "execution_count": 61,
   "id": "8a1cdc37-9d45-47b5-a8d7-d6d25242a538",
   "metadata": {},
   "outputs": [
    {
     "name": "stdout",
     "output_type": "stream",
     "text": [
      "\n",
      "* \n",
      "* * \n",
      "* * * \n",
      "* * * * \n"
     ]
    }
   ],
   "source": [
    "#Print a pattern using nested loop.\n",
    "\n",
    "a=5\n",
    "for j in range(a):\n",
    "    for i in range(j):\n",
    "        print(\"*\" ,end=\" \")\n",
    "    print(\"\\r\")   \n",
    "    "
   ]
  },
  {
   "cell_type": "code",
   "execution_count": 72,
   "id": "85e7b30c-d9ea-4e99-942d-b99d6e5c52ea",
   "metadata": {},
   "outputs": [
    {
     "name": "stdin",
     "output_type": "stream",
     "text": [
      "Enter the number: 5\n"
     ]
    },
    {
     "name": "stdout",
     "output_type": "stream",
     "text": [
      "5 X 1 = 5\n",
      "5 X 2 = 10\n",
      "5 X 3 = 15\n",
      "5 X 4 = 20\n",
      "5 X 5 = 25\n",
      "5 X 6 = 30\n",
      "5 X 7 = 35\n",
      "5 X 8 = 40\n",
      "5 X 9 = 45\n",
      "5 X 10 = 50\n"
     ]
    }
   ],
   "source": [
    "#Generate a multiplication table using nested loop.\n",
    "n= int(input(\"Enter the number:\"))\n",
    "t=1\n",
    "mul=1\n",
    "for i in range(1, 5):\n",
    "    for j in range(i):\n",
    "        mul=t*n\n",
    "        print(n,'X', t, '=',mul)\n",
    "        t+=1"
   ]
  },
  {
   "cell_type": "code",
   "execution_count": null,
   "id": "feb7b49d-39b7-473b-888e-6e6192945d8e",
   "metadata": {},
   "outputs": [],
   "source": []
  }
 ],
 "metadata": {
  "kernelspec": {
   "display_name": "Python 3 (ipykernel)",
   "language": "python",
   "name": "python3"
  },
  "language_info": {
   "codemirror_mode": {
    "name": "ipython",
    "version": 3
   },
   "file_extension": ".py",
   "mimetype": "text/x-python",
   "name": "python",
   "nbconvert_exporter": "python",
   "pygments_lexer": "ipython3",
   "version": "3.10.8"
  }
 },
 "nbformat": 4,
 "nbformat_minor": 5
}
